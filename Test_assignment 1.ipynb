{
 "cells": [
  {
   "cell_type": "code",
   "execution_count": 1,
   "metadata": {
    "collapsed": true
   },
   "outputs": [],
   "source": [
    "import numpy as np\n",
    "import matplotlib.pyplot as plt\n",
    "%matplotlib inline"
   ]
  },
  {
   "cell_type": "code",
   "execution_count": 181,
   "metadata": {},
   "outputs": [
    {
     "name": "stdout",
     "output_type": "stream",
     "text": [
      "Average minimum angle =  0.0288317312207\n",
      "Average minimum angle =  0.0345622820908\n",
      "Average minimum angle =  0.0360423294138\n",
      "Average minimum angle =  0.0312316669814\n",
      "Average minimum angle =  0.0340113233875\n",
      "Average minimum angle =  0.0300539893805\n",
      "Average minimum angle =  0.0311256745906\n",
      "Average minimum angle =  0.0231799263962\n",
      "187 ms ± 7.65 ms per loop (mean ± std. dev. of 7 runs, 1 loop each)\n"
     ]
    }
   ],
   "source": [
    "%%timeit\n",
    "samples = np.random.uniform(low=-1.0, high=1.0, size=(2, 100))\n",
    "min_angles = np.zeros((samples.shape[1]))\n",
    "\n",
    "for i in range(samples.shape[1]):\n",
    "    indices = [j for j in range(samples.shape[1]) if not j==i]\n",
    "    angles = np.zeros(0)\n",
    "    x = samples[:, i]\n",
    "    for j in indices:\n",
    "        y = samples[:, j]\n",
    "        cosine = np.dot(x,y) / (np.linalg.norm(x) * np.linalg.norm(y))\n",
    "        angles = np.append(angles, np.arccos(cosine))\n",
    "    min_angles[i] = np.amin(angles)\n",
    "        \n",
    "print('Average minimum angle = ', np.mean(min_angles))"
   ]
  },
  {
   "cell_type": "code",
   "execution_count": 178,
   "metadata": {},
   "outputs": [
    {
     "name": "stdout",
     "output_type": "stream",
     "text": [
      "-0.425953383604\n",
      "-0.425953383604\n"
     ]
    }
   ],
   "source": [
    "products = np.dot(samples.T,samples)\n",
    "products.shape\n",
    "print(products[3,0])\n",
    "print(np.dot(samples[:,0], samples[:, 3]))"
   ]
  },
  {
   "cell_type": "code",
   "execution_count": 182,
   "metadata": {},
   "outputs": [
    {
     "name": "stdout",
     "output_type": "stream",
     "text": [
      "Average minimum angle =  0.0292303182865\n",
      "Average minimum angle =  0.0321639986474\n",
      "Average minimum angle =  0.0256035276965\n",
      "Average minimum angle =  0.0315630537386\n",
      "Average minimum angle =  0.0320178047045\n",
      "Average minimum angle =  0.0325930065106\n",
      "Average minimum angle =  0.0310732268225\n",
      "Average minimum angle =  0.0359990527084\n",
      "189 ms ± 11.9 ms per loop (mean ± std. dev. of 7 runs, 1 loop each)\n"
     ]
    }
   ],
   "source": [
    "%%timeit\n",
    "samples = np.random.uniform(low=-1.0, high=1.0, size=(2, 100))\n",
    "dot_products = np.dot(samples.T, samples)\n",
    "min_angles = np.zeros((samples.shape[1]))\n",
    "\n",
    "for i in range(samples.shape[1]):\n",
    "    indices = [j for j in range(samples.shape[1]) if not j==i]\n",
    "    angles = np.zeros(0)\n",
    "    x = samples[:, i]\n",
    "    for j in indices:\n",
    "        y = samples[:, j]\n",
    "        cosine = dot_products[i, j] / (np.linalg.norm(x) * np.linalg.norm(y))\n",
    "        angles = np.append(angles, np.arccos(cosine))\n",
    "    min_angles[i] = np.amin(angles)\n",
    "        \n",
    "print('Average minimum angle = ', np.mean(min_angles))"
   ]
  },
  {
   "cell_type": "code",
   "execution_count": 227,
   "metadata": {
    "scrolled": true
   },
   "outputs": [
    {
     "name": "stdout",
     "output_type": "stream",
     "text": [
      " "
     ]
    }
   ],
   "source": [
    "%%prun\n",
    "\n",
    "N_DIMENSIONS = 10\n",
    "SAMPLESIZE = 100\n",
    "min_angles = np.zeros(SAMPLESIZE)\n",
    "max_angles = np.zeros(SAMPLESIZE)\n",
    "min_avg_angles = np.zeros(N_DIMENSIONS)\n",
    "max_avg_angles = np.zeros(N_DIMENSIONS)\n",
    "\n",
    "samples = np.random.uniform(low=-1.0, high=1.0, size=(N_DIMENSIONS, SAMPLESIZE))\n",
    "for p in range(1, N_DIMENSIONS+1):    \n",
    "    for i in range(SAMPLESIZE):\n",
    "        indices = [j for j in range(SAMPLESIZE) if not i==j]\n",
    "        x = samples[:, i]\n",
    "        angles = np.zeros(0)\n",
    "        for j in indices:\n",
    "            y = samples[:, j]\n",
    "            cosine = np.dot(x, y) / (np.sqrt((x*x).sum(axis=0)) * np.sqrt((y*y).sum(axis=0)))\n",
    "            angles = np.append(angles, np.arccos(cosine))\n",
    "        min_angles[i] = np.amin(angles)\n",
    "        max_angles[i] = np.amax(angles)    \n",
    "    min_avg_angles[N_DIMENSIONS-p] = np.mean(min_angles)\n",
    "    max_avg_angles[N_DIMENSIONS-p] = np.mean(max_angles)\n",
    "    samples = np.delete(samples, np.s_[-1:], axis=0)"
   ]
  },
  {
   "cell_type": "code",
   "execution_count": 167,
   "metadata": {
    "scrolled": true
   },
   "outputs": [
    {
     "data": {
      "image/png": "[encoded data removed]",
      "text/plain": [
       "<matplotlib.figure.Figure at 0x7fe4382b42e8>"
      ]
     },
     "metadata": {},
     "output_type": "display_data"
    }
   ],
   "source": [
    "plt.plot(range(1,N_DIMENSIONS+1), min_avg_angles/np.pi)\n",
    "plt.ylabel('Average angle (rad)')\n",
    "plt.xlabel('Dimension')\n",
    "plt.show()"
   ]
  },
  {
   "cell_type": "code",
   "execution_count": 168,
   "metadata": {},
   "outputs": [
    {
     "data": {
      "image/png": "[encoded data removed]",
      "text/plain": [
       "<matplotlib.figure.Figure at 0x7fe4382f4518>"
      ]
     },
     "metadata": {},
     "output_type": "display_data"
    }
   ],
   "source": [
    "plt.plot(range(1,N_DIMENSIONS+1), max_avg_angles/np.pi)\n",
    "plt.ylabel('Average angle (rad)')\n",
    "plt.xlabel('Dimension')\n",
    "plt.show()"
   ]
  },
  {
   "cell_type": "code",
   "execution_count": 197,
   "metadata": {
    "collapsed": true
   },
   "outputs": [],
   "source": [
    "x = np.array([1,2,3,4,5,6,7,8,9])"
   ]
  },
  {
   "cell_type": "code",
   "execution_count": 222,
   "metadata": {},
   "outputs": [
    {
     "name": "stdout",
     "output_type": "stream",
     "text": [
      "2.51 µs ± 27.9 ns per loop (mean ± std. dev. of 7 runs, 100000 loops each)\n"
     ]
    }
   ],
   "source": [
    "%%timeit\n",
    "np.sum(x)"
   ]
  },
  {
   "cell_type": "code",
   "execution_count": 223,
   "metadata": {},
   "outputs": [
    {
     "name": "stdout",
     "output_type": "stream",
     "text": [
      "1.63 µs ± 27.2 ns per loop (mean ± std. dev. of 7 runs, 1000000 loops each)\n"
     ]
    }
   ],
   "source": [
    "%%timeit\n",
    "x.sum()"
   ]
  },
  {
   "cell_type": "code",
   "execution_count": 208,
   "metadata": {},
   "outputs": [
    {
     "name": "stdout",
     "output_type": "stream",
     "text": [
      "792 ns ± 6.04 ns per loop (mean ± std. dev. of 7 runs, 1000000 loops each)\n"
     ]
    }
   ],
   "source": [
    "%%timeit\n",
    "np.dot(x, x)"
   ]
  },
  {
   "cell_type": "code",
   "execution_count": 219,
   "metadata": {},
   "outputs": [
    {
     "name": "stdout",
     "output_type": "stream",
     "text": [
      "1.16 ms ± 5.71 µs per loop (mean ± std. dev. of 7 runs, 1000 loops each)\n"
     ]
    }
   ],
   "source": [
    "%%timeit\n",
    "samples = np.random.uniform(low=-1.0, high=1.0, size=(1000, SAMPLESIZE))"
   ]
  },
  {
   "cell_type": "code",
   "execution_count": 217,
   "metadata": {},
   "outputs": [
    {
     "name": "stdout",
     "output_type": "stream",
     "text": [
      "542 µs ± 3.22 µs per loop (mean ± std. dev. of 7 runs, 1000 loops each)\n"
     ]
    }
   ],
   "source": [
    "%%timeit\n",
    "for i in range(100):\n",
    "    indices = [j for j in range(samples.shape[1]) if not j==i]"
   ]
  },
  {
   "cell_type": "code",
   "execution_count": null,
   "metadata": {
    "collapsed": true
   },
   "outputs": [],
   "source": []
  }
 ],
 "metadata": {
  "kernelspec": {
   "display_name": "Python 3",
   "language": "python",
   "name": "python3"
  },
  "language_info": {
   "codemirror_mode": {
    "name": "ipython",
    "version": 3
   },
   "file_extension": ".py",
   "mimetype": "text/x-python",
   "name": "python",
   "nbconvert_exporter": "python",
   "pygments_lexer": "ipython3",
   "version": "3.6.2"
  }
 },
 "nbformat": 4,
 "nbformat_minor": 2
}
