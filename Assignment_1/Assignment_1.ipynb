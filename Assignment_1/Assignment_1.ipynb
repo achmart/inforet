{
 "cells": [
  {
   "cell_type": "markdown",
   "metadata": {},
   "source": [
    "# Information Retrieval in High Dimensional Data"
   ]
  },
  {
   "cell_type": "markdown",
   "metadata": {},
   "source": [
    "# Assignment #1, 03.11.2017"
   ]
  },
  {
   "cell_type": "markdown",
   "metadata": {},
   "source": [
    "# Curse of Dimensionality\n",
    "Group Number: G10\n",
    "\n",
    "Group Members:\n",
    "- Achtner Martin\n",
    "- Arifi Ridon\n",
    "- Ehrhardt Daniel\n",
    "- Fichtner Lukas\n",
    "- Hassis Rafif"
   ]
  },
  {
   "cell_type": "markdown",
   "metadata": {},
   "source": [
    "## Task 1\n",
    "Assume $X$ to be uniformly distributed in $C_1$\n",
    "\n",
    "Determine d in dependence of p: $(X \\in C_d) = q$ with $q \\in [0, 1]$\n",
    "\n",
    "\n",
    "$p$: Dimensionality of the hypercube\n",
    "\n",
    "$d$: Edge length of the hypercube\n",
    "\n",
    "$q$: Arbitrary probability between $0$ and $1$\n",
    "\n",
    "\n"
   ]
  },
  {
   "cell_type": "markdown",
   "metadata": {},
   "source": [
    "$\\rightarrow$ The probability of $X$ lying in $C_d$ can be expressed as the relation between their corresponding \"volumes\":\n",
    "\n",
    "\\begin{equation} P(X \\in C_d) = q = \\frac{d^p}{1^p} = d^p \\end{equation}\n",
    "\n",
    "\\begin{equation} d = \\sqrt[p]{q} \\end{equation}"
   ]
  },
  {
   "cell_type": "markdown",
   "metadata": {},
   "source": [
    "Let the components of the p-dimensional random variable $X^p$ be independent and\n",
    "have the standard normal distribution. It is known that $P( | X^1 | \\leqslant 2.576) = 0.99$.\n",
    "For an arbitrary $p$, determine the probability $P(X^p \\notin C_{5.152})$ for any of the\n",
    "components of $X^p$ to lie outside of the interval $[-2.576, 2.576]$.\n",
    "\n"
   ]
  },
  {
   "cell_type": "markdown",
   "metadata": {},
   "source": [
    "\\begin{equation} P = P( | X^p | \\leqslant 2.576)^p \\end{equation}"
   ]
  },
  {
   "cell_type": "markdown",
   "metadata": {},
   "source": [
    "### Evaluate the value for $p = 2$, $p = 3$ and $p = 500$."
   ]
  },
  {
   "cell_type": "code",
   "execution_count": 2,
   "metadata": {
    "collapsed": true
   },
   "outputs": [],
   "source": [
    "import numpy as np\n",
    "import matplotlib.pyplot as plt"
   ]
  },
  {
   "cell_type": "code",
   "execution_count": 17,
   "metadata": {},
   "outputs": [
    {
     "name": "stdout",
     "output_type": "stream",
     "text": [
      "Px[2] = 0.020\n",
      "Px[3] = 0.030\n",
      "Px[500] = 0.993\n"
     ]
    }
   ],
   "source": [
    "p_values = (2, 3, 500)\n",
    "\n",
    "Px = np.asarray([1 - 0.99**i for i in p_values])\n",
    "for i in range(3):\n",
    "    print('Px[{}] = {:.3f}'.format(p_values[i], Px[i]))"
   ]
  },
  {
   "cell_type": "markdown",
   "metadata": {},
   "source": [
    "## Task 2"
   ]
  },
  {
   "cell_type": "markdown",
   "metadata": {},
   "source": [
    "### Sample 100 uniformly distributed random vectors from the hypercube $[-1, 1]^p$ for $p = 2$."
   ]
  },
  {
   "cell_type": "code",
   "execution_count": 18,
   "metadata": {},
   "outputs": [
    {
     "name": "stdout",
     "output_type": "stream",
     "text": [
      "[[0.964 0.598 0.367 -0.816 0.701 0.582 -0.539 0.192 -0.931 -0.907 0.459\n",
      "  -0.369 0.976 0.616 -0.359 -0.000 0.184 0.003 -0.787 -0.472 0.894 -0.051\n",
      "  -0.783 -0.783 0.315 -0.327 -0.819 0.257 -0.459 -0.196 0.139 0.565 -0.066\n",
      "  0.647 0.658 0.180 -0.639 -0.603 0.655 0.389 -0.244 -0.983 0.913 -0.038\n",
      "  0.118 -0.826 0.885 0.186 -0.884 -0.790 0.968 -0.513 0.873 -0.193 -0.071\n",
      "  0.327 -0.938 0.293 0.812 0.810 -0.098 0.376 0.933 0.585 0.063 -0.931\n",
      "  -0.216 0.653 -0.443 0.657 0.535 0.371 -0.163 0.413 0.028 0.322 0.385\n",
      "  -0.035 0.871 0.020 0.583 0.102 -0.857 -0.576 -0.779 0.307 -0.298 0.022\n",
      "  -0.928 -0.420 0.648 -0.577 -0.179 0.900 -0.209 -0.636 -0.952 0.975 0.404\n",
      "  -0.615]\n",
      " [0.880 0.655 -0.006 -0.946 -0.261 0.906 0.557 0.502 0.207 -0.861 0.835\n",
      "  0.272 -0.020 0.536 -0.610 -0.582 -0.641 -0.982 0.639 0.469 0.120 0.305\n",
      "  -0.184 0.038 0.225 -0.722 -0.288 0.015 0.222 -0.189 0.877 -0.339 -0.879\n",
      "  -0.515 0.175 0.487 0.444 0.788 0.134 0.138 -0.426 -0.479 0.901 -0.209\n",
      "  -0.044 0.853 -0.123 0.546 0.172 -0.266 -0.561 0.821 0.475 -0.665 -0.371\n",
      "  0.132 -0.858 -0.267 -0.340 0.989 0.286 -0.438 -0.495 0.113 0.191 -0.365\n",
      "  -0.930 0.132 0.312 -0.950 0.517 -0.148 -0.962 -0.481 0.631 -0.280 -0.493\n",
      "  0.138 0.471 -0.320 -0.851 0.159 -0.658 0.114 -0.317 -0.500 -0.503 -0.014\n",
      "  -0.202 0.262 0.579 0.335 -0.471 -0.658 0.120 0.037 0.202 0.665 -0.160\n",
      "  0.419]]\n"
     ]
    }
   ],
   "source": [
    "samples = np.random.uniform(low=-1.0, high=1.0, size=(2, 100))\n",
    "\n",
    "np.set_printoptions(formatter={'float': lambda x: \"{0:0.3f}\".format(x)})\n",
    "print('{}'.format(samples) )"
   ]
  },
  {
   "cell_type": "markdown",
   "metadata": {},
   "source": [
    "### For each of the 100 vectors determine the minimum angle to all other vectors. Then compute the average of these minimum angles."
   ]
  },
  {
   "cell_type": "code",
   "execution_count": 19,
   "metadata": {},
   "outputs": [
    {
     "name": "stdout",
     "output_type": "stream",
     "text": [
      "Average minimum angle =  0.0295040143848\n",
      "CPU times: user 248 ms, sys: 0 ns, total: 248 ms\n",
      "Wall time: 251 ms\n"
     ]
    }
   ],
   "source": [
    "%%time\n",
    "min_angles = np.zeros((samples.shape[1]))\n",
    "\n",
    "for i in range(samples.shape[1]):\n",
    "    indices = [j for j in range(samples.shape[1]) if not j==i]\n",
    "    angles = np.zeros(0)\n",
    "    x = samples[:, i]\n",
    "    for j in indices:\n",
    "        y = samples[:, j]\n",
    "        cosine = np.dot(x,y) / (np.linalg.norm(x) * np.linalg.norm(y))\n",
    "        angles = np.append(angles, np.arccos(cosine))\n",
    "    min_angles[i] = np.amin(angles)\n",
    "        \n",
    "print('Average minimum angle = ', np.mean(min_angles))"
   ]
  },
  {
   "cell_type": "markdown",
   "metadata": {},
   "source": [
    "### Repeat the above for dimensions p = 1...1000 and use the results to plot the average minimum angle against the dimension."
   ]
  },
  {
   "cell_type": "code",
   "execution_count": 20,
   "metadata": {},
   "outputs": [
    {
     "name": "stdout",
     "output_type": "stream",
     "text": [
      "CPU times: user 4min 2s, sys: 0 ns, total: 4min 2s\n",
      "Wall time: 4min 2s\n"
     ]
    }
   ],
   "source": [
    "%%time\n",
    "\n",
    "N_DIMENSIONS = 1000\n",
    "SAMPLESIZE = 100\n",
    "min_angles = np.zeros(SAMPLESIZE)\n",
    "max_angles = np.zeros(SAMPLESIZE)\n",
    "min_avg_angles = np.zeros(N_DIMENSIONS)\n",
    "max_avg_angles = np.zeros(N_DIMENSIONS)\n",
    "\n",
    "samples = np.random.uniform(low=-1.0, high=1.0, size=(N_DIMENSIONS, SAMPLESIZE))\n",
    "for p in range(1, N_DIMENSIONS+1):    \n",
    "    for i in range(SAMPLESIZE):\n",
    "        indices = [j for j in range(SAMPLESIZE) if not i==j]\n",
    "        x = samples[:, i]\n",
    "        angles = np.zeros(0)\n",
    "        for j in indices:\n",
    "            y = samples[:, j]\n",
    "            cosine = np.dot(x,y) / (np.linalg.norm(x) * np.linalg.norm(y))\n",
    "            angles = np.append(angles, np.arccos(cosine))\n",
    "        min_angles[i] = np.amin(angles)\n",
    "        max_angles[i] = np.amax(angles)    \n",
    "    min_avg_angles[N_DIMENSIONS-p] = np.mean(min_angles)\n",
    "    max_avg_angles[N_DIMENSIONS-p] = np.mean(max_angles)\n",
    "    samples = np.delete(samples, np.s_[-1:], axis=0)"
   ]
  },
  {
   "cell_type": "code",
   "execution_count": 21,
   "metadata": {},
   "outputs": [
    {
     "data": {
      "image/png": "[encoded data removed]",
      "text/plain": [
       "<matplotlib.figure.Figure at 0x7f8166c43b70>"
      ]
     },
     "metadata": {},
     "output_type": "display_data"
    }
   ],
   "source": [
    "plt.plot(range(1,N_DIMENSIONS+1), min_avg_angles/np.pi)\n",
    "plt.ylabel('Average minimum angle (rad)')\n",
    "plt.xlabel('Dimension')\n",
    "plt.show()"
   ]
  },
  {
   "cell_type": "markdown",
   "metadata": {},
   "source": [
    "### Give an interpretation of the result.\n",
    "\n",
    "$\\rightarrow$ The average angle between 2 vectors converges to $\\frac{\\pi}{2}$\n",
    "\n",
    "### What conclusions can you draw for 2 randomly sampled vectors in a p-dimensional space?\n",
    "\n",
    "$\\rightarrow$ The higher the value of p, the more likely it is that the 2 vectors are orthogonal."
   ]
  },
  {
   "cell_type": "markdown",
   "metadata": {},
   "source": [
    "### Does the result change if the sample size increases?"
   ]
  },
  {
   "cell_type": "code",
   "execution_count": 23,
   "metadata": {},
   "outputs": [
    {
     "name": "stdout",
     "output_type": "stream",
     "text": [
      "CPU times: user 16min 34s, sys: 252 ms, total: 16min 34s\n",
      "Wall time: 16min 34s\n"
     ]
    }
   ],
   "source": [
    "%%time\n",
    "\n",
    "N_DIMENSIONS = 1000\n",
    "SAMPLESIZE = 200\n",
    "min_angles = np.zeros(SAMPLESIZE)\n",
    "max_angles = np.zeros(SAMPLESIZE)\n",
    "min_avg_angles = np.zeros(N_DIMENSIONS)\n",
    "max_avg_angles = np.zeros(N_DIMENSIONS)\n",
    "\n",
    "samples = np.random.uniform(low=-1.0, high=1.0, size=(N_DIMENSIONS, SAMPLESIZE))\n",
    "for p in range(1, N_DIMENSIONS+1):    \n",
    "    for i in range(SAMPLESIZE):\n",
    "        indices = [j for j in range(SAMPLESIZE) if not i==j]\n",
    "        x = samples[:, i]\n",
    "        angles = np.zeros(0)\n",
    "        for j in indices:\n",
    "            y = samples[:, j]\n",
    "            cosine = np.dot(x,y) / (np.linalg.norm(x) * np.linalg.norm(y))\n",
    "            angles = np.append(angles, np.arccos(cosine))\n",
    "        min_angles[i] = np.amin(angles)\n",
    "        max_angles[i] = np.amax(angles)    \n",
    "    min_avg_angles[N_DIMENSIONS-p] = np.mean(min_angles)\n",
    "    max_avg_angles[N_DIMENSIONS-p] = np.mean(max_angles)\n",
    "    samples = np.delete(samples, np.s_[-1:], axis=0)"
   ]
  },
  {
   "cell_type": "code",
   "execution_count": 24,
   "metadata": {},
   "outputs": [
    {
     "data": {
      "image/png": "[encoded data removed]",
      "text/plain": [
       "<matplotlib.figure.Figure at 0x7f815ed4b518>"
      ]
     },
     "metadata": {},
     "output_type": "display_data"
    }
   ],
   "source": [
    "plt.plot(range(1,N_DIMENSIONS+1), min_avg_angles/np.pi)\n",
    "plt.ylabel('Average angle (rad)')\n",
    "plt.xlabel('Dimension')\n",
    "plt.show()"
   ]
  },
  {
   "cell_type": "markdown",
   "metadata": {},
   "source": [
    "$\\rightarrow$ The more samples are chosen in a space of dimension $p$ the more likely it is that 2 vectors point in the same direction. Hence the average angle converges slower and with more oscillations around $\\frac{\\pi}{2}$."
   ]
  },
  {
   "cell_type": "markdown",
   "metadata": {},
   "source": [
    "## Task 3"
   ]
  },
  {
   "cell_type": "markdown",
   "metadata": {},
   "source": [
    "Draw a circle with radius $\\frac{1}{2}$ around each corner (note that each circle touches its two neighboring circles). Now draw a circle around the origin with a radius such that it touches all of the four previously drawn circles. What radius does it have?\n",
    "\n"
   ]
  },
  {
   "cell_type": "markdown",
   "metadata": {},
   "source": [
    "$$\n",
    "\\rightarrow r = \\sqrt{0.5^2 + 0.5^2} - R = \\sqrt{0.5^2 + 0.5^2} - 0.5 = \\sqrt{0.25 + 0.25} -0.5 = \\sqrt{0.5} - 0.5 = 0.207106... \\approx 0.207\n",
    "$$"
   ]
  },
  {
   "cell_type": "markdown",
   "metadata": {},
   "source": [
    "Motivate your claim.\n",
    "\n",
    "$\\rightarrow$The distance from the center 0 to one of the corner points of the hypercube can be calculated using the Theorem of Pythagoras."
   ]
  },
  {
   "cell_type": "code",
   "execution_count": 26,
   "metadata": {},
   "outputs": [
    {
     "name": "stdout",
     "output_type": "stream",
     "text": [
      "p = 1, r = 0.0\n",
      "p = 2, r = 0.207106781187\n",
      "p = 3, r = 0.366025403784\n",
      "p = 4, r = 0.5\n",
      "p = 5, r = 0.61803398875\n",
      "p = 6, r = 0.724744871392\n",
      "p = 7, r = 0.822875655532\n",
      "p = 8, r = 0.914213562373\n",
      "p = 9, r = 1.0\n",
      "p = 10, r = 1.08113883008\n",
      "p = 11, r = 1.15831239518\n",
      "p = 12, r = 1.23205080757\n",
      "p = 13, r = 1.30277563773\n",
      "p = 14, r = 1.37082869339\n",
      "p = 15, r = 1.4364916731\n",
      "p = 16, r = 1.5\n",
      "p = 17, r = 1.56155281281\n",
      "p = 18, r = 1.62132034356\n",
      "p = 19, r = 1.67944947177\n",
      "p = 20, r = 1.7360679775\n"
     ]
    }
   ],
   "source": [
    "def calculate_radius(d, p):\n",
    "    return np.sqrt(np.sum(np.asarray([d**2 for i in range(p)]))) - 0.5\n",
    "\n",
    "dimensions = np.asarray(range(1,21))\n",
    "result = np.zeros((20,))\n",
    "\n",
    "for p in dimensions:\n",
    "    result[p-1] = calculate_radius(0.5, p)\n",
    "    print('p = ' + str(p) + ', r = ' + str(result[p-1]))"
   ]
  },
  {
   "cell_type": "markdown",
   "metadata": {},
   "source": [
    "$\\rightarrow$ From the 4th dimension onwards the radius of the inner hypersphere exceeds the boundaries of the hypercube.\n",
    "\n",
    "$\\rightarrow$ From the 9th dimension onwards the radius of the inner hypersphere is equal or more than the size of the hypercube."
   ]
  },
  {
   "cell_type": "markdown",
   "metadata": {},
   "source": [
    "## Statistical Decision Making"
   ]
  },
  {
   "cell_type": "markdown",
   "metadata": {
    "collapsed": true
   },
   "source": [
    "## Task 4\n",
    "Answer the following question. All answers must be justified."
   ]
  },
  {
   "cell_type": "markdown",
   "metadata": {},
   "source": [
    "<div style=\"text-align: center\">$\\begin{array}{c|ccc} p_X(X, Y)  & Y = 1 & Y = 2 & Y = 3 \\\\ \\hline\\hline X = 2 & 0.4 & 0.14 & 0.05 \\\\ X = 1 & 0.02 & 0.26 & 0.13\\end{array}$</div>"
   ]
  },
  {
   "cell_type": "markdown",
   "metadata": {
    "collapsed": true
   },
   "source": [
    "+ The numbers in Figure 1 describe the probability of the respective events (e.g. $P(X=1, Y=1) = 0.02).$ Is this table a probability table? Justify your answer."
   ]
  },
  {
   "cell_type": "markdown",
   "metadata": {
    "collapsed": true
   },
   "source": [
    "$ \\rightarrow $ The individual probabilities of alle possible events must be real, non-negative and sum up to 1."
   ]
  },
  {
   "cell_type": "code",
   "execution_count": 12,
   "metadata": {},
   "outputs": [
    {
     "name": "stdout",
     "output_type": "stream",
     "text": [
      "Sum of all probabilities: 1.0\n"
     ]
    }
   ],
   "source": [
    "# Check sum of probabilties.\n",
    "joint_prob = np.array([[0.4, 0.14, 0.05], [0.02, 0.26, 0.13]])\n",
    "P_sum = np.sum(joint_prob)\n",
    "print('Sum of all probabilities: {}'.format(P_sum))"
   ]
  },
  {
   "cell_type": "code",
   "execution_count": 13,
   "metadata": {},
   "outputs": [
    {
     "name": "stdout",
     "output_type": "stream",
     "text": [
      "Is any probability negative?: False\n"
     ]
    }
   ],
   "source": [
    "negative = False\n",
    "arr = joint_prob.reshape(6,1)\n",
    "for prob in arr:\n",
    "    if prob < 0:\n",
    "        negative = True\n",
    "print('Is any probability negative?: {}'.format(negative))"
   ]
  },
  {
   "cell_type": "markdown",
   "metadata": {
    "collapsed": true
   },
   "source": [
    "So the answer ist yes, this table is a probability table."
   ]
  },
  {
   "cell_type": "markdown",
   "metadata": {
    "collapsed": true
   },
   "source": [
    "+ By means of Figure 1, provide the conditional expectation $\\mathbb{E}_{y|X=2}[Y]$ and the probability of the event $X=1$ under the condition that $Y=3.$"
   ]
  },
  {
   "cell_type": "markdown",
   "metadata": {
    "collapsed": true
   },
   "source": [
    "$ \\rightarrow $ To calculate $\\mathbb{E}_{y|X=2}[Y]$ we simply have to multiply the possible outcomes of $Y$ with their respective joint probabilities, add them up and divide them by the probybility that $X$ equals two.\n",
    "$\\mathbb{E}_{y|X=2}[Y] = \\frac{\\sum\\limits_{i=1}^3 i \\times P(X=1, Y=i)}{P(X=2)}$"
   ]
  },
  {
   "cell_type": "code",
   "execution_count": 28,
   "metadata": {},
   "outputs": [
    {
     "name": "stdout",
     "output_type": "stream",
     "text": [
      "Conditional Expectation: 1.41\n"
     ]
    }
   ],
   "source": [
    "y_values = np.array([1,2,3])\n",
    "E_y_x2 = np.dot(joint_prob[0], y_values)/np.sum(joint_prob[0])\n",
    "print('Conditional Expectation: {:.2f}'.format(E_y_x2))"
   ]
  },
  {
   "cell_type": "markdown",
   "metadata": {
    "collapsed": true
   },
   "source": [
    "$ \\rightarrow $ Similiar formula for the second probability:\n",
    "$ P(X=1|Y=3) = \\frac{P(X=1,Y=3)}{P(Y=3)} = \\frac{P(X=1,Y=3)}{\\sum\\limits_{i=1}^2 P(X=i,Y=3)} $"
   ]
  },
  {
   "cell_type": "code",
   "execution_count": 29,
   "metadata": {},
   "outputs": [
    {
     "name": "stdout",
     "output_type": "stream",
     "text": [
      "Conditional Probability: 0.72\n"
     ]
    }
   ],
   "source": [
    "P_x1_cond_y3 = joint_prob[1,2]/(joint_prob[0,2]+joint_prob[1,2])\n",
    "print('Conditional Probability: {:.2f}'.format(P_x1_cond_y3))"
   ]
  },
  {
   "cell_type": "markdown",
   "metadata": {},
   "source": [
    "+ Is the function $p(x,y)$ given by"
   ]
  },
  {
   "cell_type": "markdown",
   "metadata": {},
   "source": [
    "\\begin{equation} p(x,y) = \\begin{cases} 1 & \\text{for } 0 \\leq x \\leq 1 \\text{, } 0\\leq y \\leq \\frac{1}{2} \\\\0 & \\text{otherwise}\\end{cases} \\end{equation}"
   ]
  },
  {
   "cell_type": "markdown",
   "metadata": {},
   "source": [
    "a joint densitiy function for two random variables?"
   ]
  },
  {
   "cell_type": "markdown",
   "metadata": {},
   "source": [
    "$ \\rightarrow $ For this function to be a joint density function it must fulfill the property:"
   ]
  },
  {
   "cell_type": "markdown",
   "metadata": {
    "collapsed": true
   },
   "source": [
    "\\begin{equation} \\int\\limits_{-\\infty}^{\\infty}\\int\\limits_{-\\infty}^{\\infty}p(x,y)dxdy = 1 \\end{equation}"
   ]
  },
  {
   "cell_type": "markdown",
   "metadata": {},
   "source": [
    "and regarding our function we can change this condition to"
   ]
  },
  {
   "cell_type": "markdown",
   "metadata": {},
   "source": [
    "\\begin{equation} \\int\\limits_{0}^{0.5}\\int\\limits_{0}^{1}1 dxdy = 1 \\end{equation}"
   ]
  },
  {
   "cell_type": "markdown",
   "metadata": {},
   "source": [
    "$ \\int\\limits_{0}^{\\frac{1}{2}}\\int\\limits_{0}^{1}1 dxdy = \\int\\limits_{0}^{\\frac{1}{2}}\\left[x\\right]_0^1dy = \\int\\limits_{0}^{\\frac{1}{2}}1dy = \\left[y\\right]_0^{\\frac{1}{2}} = \\frac{1}{2} \\neq 1$\n",
    "\n",
    "Therefore this function is not a joint density function."
   ]
  },
  {
   "cell_type": "code",
   "execution_count": 2,
   "metadata": {},
   "outputs": [
    {
     "data": {
      "image/png": "[encoded data removed]",
      "text/latex": [
       "$$\\frac{1}{2}$$"
      ],
      "text/plain": [
       "1/2"
      ]
     },
     "execution_count": 2,
     "metadata": {},
     "output_type": "execute_result"
    }
   ],
   "source": [
    "# Validate Integral\n",
    "from sympy import *\n",
    "init_printing(use_unicode=True)\n",
    "x, y = symbols('x y')\n",
    "integrate(integrate(1, (x, 0, 1)), (y, 0, Rational(1, 2)))"
   ]
  },
  {
   "cell_type": "markdown",
   "metadata": {},
   "source": [
    "+ For two random variables $X$ and $Y$, let the joint density function be given by"
   ]
  },
  {
   "cell_type": "markdown",
   "metadata": {},
   "source": [
    "\\begin{equation} p(x,y) = \\begin{cases} 2e^{-(x+y)} & \\text{for } 0 \\leq x \\leq y \\text{, } 0\\leq y \\\\0 & \\text{otherwise.}\\end{cases} \\end{equation}"
   ]
  },
  {
   "cell_type": "markdown",
   "metadata": {},
   "source": [
    "What are the marginal density functions for $X$ and $Y$ respectively?"
   ]
  },
  {
   "cell_type": "markdown",
   "metadata": {},
   "source": [
    "$ \\rightarrow $ The marginal density functions are defined as\n",
    "\n",
    "$ f_x(x,y) = \\int\\limits_{-\\infty}^{+\\infty}f(x,y)dy$\n",
    "\n",
    "   $ f_y(x,y) = \\int\\limits_{-\\infty}^{+\\infty}f(x,y)dx$ "
   ]
  },
  {
   "cell_type": "markdown",
   "metadata": {},
   "source": [
    "Compute $ f_x(x,y) $ first:\n",
    "\n",
    "$ f_x(x,y) = \\int\\limits_{0}^{+\\infty}2e^{-(x+y)}dy = \\lim\\limits_{\\alpha \\to \\infty} \\int\\limits_{0}^{\\alpha}2e^{-(x+y)}dy = \\lim\\limits_{\\alpha \\to \\infty} \\left[-2e^{-(x+y)}\\right]_0^{\\alpha} = \\lim\\limits_{\\alpha \\to \\infty} \\left.\\left[-2(e^{-(x + \\alpha)} - e^{-(x+0)})\\right]\\right|_{x\\geq0} = 2e^{-x}$\n",
    "\n",
    "Now for $ f_y(x,y) $:\n",
    "\n",
    "$ f_y(x,y) = \\int\\limits_0^y 2e^{-(x+y)}dx = \\left[-2e^{-(x+y)}\\right]_0^y = -2e^{-2y} + 2e^{-y} $"
   ]
  },
  {
   "cell_type": "code",
   "execution_count": 31,
   "metadata": {},
   "outputs": [
    {
     "data": {
      "image/png": "[encoded data removed]",
      "text/latex": [
       "$$2 e^{- x}$$"
      ],
      "text/plain": [
       "   -x\n",
       "2⋅ℯ  "
      ]
     },
     "execution_count": 31,
     "metadata": {},
     "output_type": "execute_result"
    }
   ],
   "source": [
    "# Validate f_x(x, y)\n",
    "fxy = 2*exp(-(x+y))\n",
    "integrate(fxy, (y, 0, oo))"
   ]
  },
  {
   "cell_type": "code",
   "execution_count": 32,
   "metadata": {},
   "outputs": [
    {
     "data": {
      "image/png": "[encoded data removed]",
      "text/latex": [
       "$$2 e^{- y} - 2 e^{- 2 y}$$"
      ],
      "text/plain": [
       "   -y      -2⋅y\n",
       "2⋅ℯ   - 2⋅ℯ    "
      ]
     },
     "execution_count": 32,
     "metadata": {},
     "output_type": "execute_result"
    }
   ],
   "source": [
    "# Validate f_y(x, y)\n",
    "integrate(fxy, (x, 0, y))"
   ]
  },
  {
   "cell_type": "markdown",
   "metadata": {},
   "source": [
    "+ Let the joint density function of two random variables $X$ and $Y$ be given by"
   ]
  },
  {
   "cell_type": "markdown",
   "metadata": {},
   "source": [
    "\\begin{equation} p(x,y) = \\begin{cases} \\frac{1}{15}(2x+4y) & \\text{for } 0 < x < 3 \\text{, } 0 < y < 1 \\\\0 & \\text{otherwise.}\\end{cases} \\end{equation}"
   ]
  },
  {
   "cell_type": "markdown",
   "metadata": {},
   "source": [
    "Determine the probability for $X \\leq 2$ under the condition that $Y = \\frac{1}{2}$."
   ]
  },
  {
   "cell_type": "markdown",
   "metadata": {},
   "source": [
    "$\\rightarrow P(X \\leq 2, Y=\\frac{1}{2}) = \\int\\limits_0^2 \\left.p(x,y)dx\\right|_{y=\\frac{1}{2}} = \\int\\limits_0^2 \\frac{1}{15}(2x+2)dx = \\left[\\frac{1}{15}(x^2 + 2x)\\right]_0^2 = \\frac{1}{15}(4+4) -0 = \\frac{8}{15}$"
   ]
  },
  {
   "cell_type": "code",
   "execution_count": 8,
   "metadata": {},
   "outputs": [
    {
     "data": {
      "image/png": "[encoded data removed]",
      "text/latex": [
       "$$\\frac{8}{15}$$"
      ],
      "text/plain": [
       "8/15"
      ]
     },
     "execution_count": 8,
     "metadata": {},
     "output_type": "execute_result"
    }
   ],
   "source": [
    "# Validate P(X <=2, Y = 0.5)\n",
    "pxy = Rational(1, 15)*(2*x + 4*y)\n",
    "prob = integrate(pxy, (x, 0, 2))\n",
    "y = Rational(1, 2)\n",
    "prob"
   ]
  }
 ],
 "metadata": {
  "kernelspec": {
   "display_name": "Python 3",
   "language": "python",
   "name": "python3"
  },
  "language_info": {
   "codemirror_mode": {
    "name": "ipython",
    "version": 3
   },
   "file_extension": ".py",
   "mimetype": "text/x-python",
   "name": "python",
   "nbconvert_exporter": "python",
   "pygments_lexer": "ipython3",
   "version": "3.6.2"
  }
 },
 "nbformat": 4,
 "nbformat_minor": 2
}
