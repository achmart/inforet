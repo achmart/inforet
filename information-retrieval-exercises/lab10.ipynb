{
 "cells": [
  {
   "cell_type": "markdown",
   "metadata": {},
   "source": [
    "# Information Retrieval in High Dimensional Data\n",
    "### Lab \\#10, 25.01.2018\n",
    "\n",
    "## CVXOPT"
   ]
  },
  {
   "cell_type": "markdown",
   "metadata": {},
   "source": [
    "a) Go to <a href=\"http://www.cvxopt.org\">cvxopt.org</a> and follow the installation instructions for your distribution.  \n",
    "For conda, you need to run"
   ]
  },
  {
   "cell_type": "markdown",
   "metadata": {},
   "source": [
    "conda install -c conda-forge cvxopt"
   ]
  },
  {
   "cell_type": "markdown",
   "metadata": {},
   "source": [
    "b) Skim through the <b>Examples</b> section on cvxopt.org to get an overview of the functionality of the different solvers of CVXOPT."
   ]
  },
  {
   "cell_type": "markdown",
   "metadata": {},
   "source": [
    "c) Implement a function minsq which expects a NumPy array A of shape (m, n) and a NumPy array y of shape (m,) as its arguments and returns a NumPy array x of shape (n,) that solves the following problem\n",
    "\n",
    "\\begin{equation} \\min\\limits_x \\| Ax-y\\|. \\end{equation}\n",
    "\n",
    "Test your function by feeding it with appropriate inputs an comparing the results with the one syou get by using np.linalg.pinv. Experiment by adding white Gaussian noise to y."
   ]
  },
  {
   "cell_type": "code",
   "execution_count": 4,
   "metadata": {
    "collapsed": true
   },
   "outputs": [],
   "source": [
    "import numpy as np\n",
    "from cvxopt import matrix, solvers"
   ]
  },
  {
   "cell_type": "code",
   "execution_count": 5,
   "metadata": {
    "collapsed": true
   },
   "outputs": [],
   "source": [
    "def minsq(A,y):\n",
    "    m, n = A.shape\n",
    "    P = matrix(np.eye(n).astype(dtype=np.float_))\n",
    "    q = matrix(np.zeros(n).astype(dtype=np.float_))\n",
    "    G = matrix(np.zeros((m, n)))\n",
    "    h = matrix(np.zeros((n, 1)))\n",
    "    A = matrix(A.astype(dtype=np.float_))\n",
    "    y = np.expand_dims(y, axis = 1)\n",
    "    b = matrix(y.astype(dtype=np.float_))\n",
    "    print(y.shape)\n",
    "    sol = solvers.qp(P,q, G, h, A=A, b=b, solver='MOSEK')\n",
    "    return sol['x']    "
   ]
  },
  {
   "cell_type": "code",
   "execution_count": 6,
   "metadata": {
    "collapsed": true
   },
   "outputs": [],
   "source": [
    "A = np.array([[1, 2, 4], [4, 9, 6], [7, 8, 4]], dtype='float64')\n",
    "y = np.array([3, 5, 9], dtype='float64')"
   ]
  },
  {
   "cell_type": "code",
   "execution_count": 7,
   "metadata": {
    "collapsed": true
   },
   "outputs": [],
   "source": [
    "A_inv = np.linalg.pinv(A)"
   ]
  },
  {
   "cell_type": "code",
   "execution_count": 8,
   "metadata": {},
   "outputs": [
    {
     "data": {
      "text/plain": [
       "array([ 1.57142857, -0.57142857,  0.64285714])"
      ]
     },
     "execution_count": 8,
     "metadata": {},
     "output_type": "execute_result"
    }
   ],
   "source": [
    "x = np.dot(A_inv, y)\n",
    "x"
   ]
  },
  {
   "cell_type": "code",
   "execution_count": 10,
   "metadata": {},
   "outputs": [
    {
     "name": "stdout",
     "output_type": "stream",
     "text": [
      "(3, 1)\n",
      "     pcost       dcost       gap    pres   dres\n",
      " 0:  1.6046e+00  1.6046e+00  3e+00  2e+00  0e+00\n",
      " 1:  1.6046e+00  1.6046e+00  3e-02  2e-02  2e-16\n",
      " 2:  1.6046e+00  1.6046e+00  3e-04  2e-04  5e-16\n",
      " 3:  1.6046e+00  1.6046e+00  3e-06  2e-06  1e-15\n",
      " 4:  1.6046e+00  1.6046e+00  3e-08  2e-08  1e-15\n",
      "Optimal solution found.\n",
      "[ 1.57e+00]\n",
      "[-5.71e-01]\n",
      "[ 6.43e-01]\n",
      "\n"
     ]
    }
   ],
   "source": [
    "x = minsq(A, y)\n",
    "print(x)"
   ]
  },
  {
   "cell_type": "code",
   "execution_count": null,
   "metadata": {
    "collapsed": true
   },
   "outputs": [],
   "source": []
  }
 ],
 "metadata": {
  "kernelspec": {
   "display_name": "Python 3",
   "language": "python",
   "name": "python3"
  },
  "language_info": {
   "codemirror_mode": {
    "name": "ipython",
    "version": 3
   },
   "file_extension": ".py",
   "mimetype": "text/x-python",
   "name": "python",
   "nbconvert_exporter": "python",
   "pygments_lexer": "ipython3",
   "version": "3.6.3"
  }
 },
 "nbformat": 4,
 "nbformat_minor": 2
}
